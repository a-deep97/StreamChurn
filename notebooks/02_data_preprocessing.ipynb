{
 "cells": [
  {
   "cell_type": "code",
   "execution_count": 14,
   "id": "09d8da6a",
   "metadata": {},
   "outputs": [],
   "source": [
    "import pandas as pd\n",
    "from sklearn.model_selection import train_test_split\n",
    "from sklearn.preprocessing import StandardScaler\n",
    "import joblib"
   ]
  },
  {
   "cell_type": "code",
   "execution_count": 15,
   "id": "ae844a78",
   "metadata": {},
   "outputs": [
    {
     "name": "stdout",
     "output_type": "stream",
     "text": [
      "Dataset shape: (5000, 14)\n"
     ]
    }
   ],
   "source": [
    "df = pd.read_csv(\"../data/customer_churn.csv\")\n",
    "print(\"Dataset shape:\", df.shape)\n",
    "\n",
    "# Drop useless columns\n",
    "if \"customer_id\" in df.columns:\n",
    "    df = df.drop(\"customer_id\", axis=1)"
   ]
  },
  {
   "cell_type": "code",
   "execution_count": 16,
   "id": "dc325f35",
   "metadata": {},
   "outputs": [],
   "source": [
    "# Cell 3: Define target\n",
    "target_col = \"churned\"\n",
    "# Convert to binary\n",
    "if df[target_col].dtype == \"object\":\n",
    "    df[target_col] = df[target_col].map({\"Yes\": 1, \"No\": 0})\n",
    "df[target_col] = df[target_col].astype(int)"
   ]
  },
  {
   "cell_type": "code",
   "execution_count": 17,
   "id": "c9caa215",
   "metadata": {},
   "outputs": [
    {
     "name": "stdout",
     "output_type": "stream",
     "text": [
      "Features shape: (5000, 12) Target shape: (5000,)\n"
     ]
    }
   ],
   "source": [
    "X = df.drop(target_col, axis=1)\n",
    "y = df[target_col]\n",
    "print(\"Features shape:\", X.shape, \"Target shape:\", y.shape)"
   ]
  },
  {
   "cell_type": "code",
   "execution_count": 18,
   "id": "5a122bd8",
   "metadata": {},
   "outputs": [],
   "source": [
    "numeric_cols = [\"age\",\"watch_hours\",\"last_login_days\",\"monthly_fee\",\n",
    "                \"number_of_profiles\",\"avg_watch_time_per_day\"]\n",
    "categorical_cols = [\"gender\", \"subscription_type\", \"region\", \"device\", \"payment_method\", \"favorite_genre\"]"
   ]
  },
  {
   "cell_type": "code",
   "execution_count": 19,
   "id": "f60f5875",
   "metadata": {},
   "outputs": [
    {
     "name": "stdout",
     "output_type": "stream",
     "text": [
      "Feature columns saved.\n"
     ]
    }
   ],
   "source": [
    "X = pd.get_dummies(X, columns=categorical_cols, drop_first=True)\n",
    "# Save feature columns for later use\n",
    "feature_cols = X.columns.tolist()\n",
    "joblib.dump(feature_cols, \"../models/feature_columns.pkl\")\n",
    "print(\"Feature columns saved.\")"
   ]
  },
  {
   "cell_type": "code",
   "execution_count": 20,
   "id": "21708457",
   "metadata": {},
   "outputs": [],
   "source": [
    "# Cell 7: Train-test split\n",
    "X_train, X_test, y_train, y_test = train_test_split(\n",
    "    X, y, test_size=0.2, random_state=42, stratify=y\n",
    ")"
   ]
  },
  {
   "cell_type": "code",
   "execution_count": 21,
   "id": "dd7dfb54",
   "metadata": {},
   "outputs": [
    {
     "name": "stdout",
     "output_type": "stream",
     "text": [
      "Scaler saved.\n"
     ]
    }
   ],
   "source": [
    "scaler = StandardScaler()\n",
    "X_train[numeric_cols] = scaler.fit_transform(X_train[numeric_cols])\n",
    "X_test[numeric_cols] = scaler.transform(X_test[numeric_cols])\n",
    "\n",
    "# Save scaler\n",
    "joblib.dump(scaler, \"../models/scaler.pkl\")\n",
    "print(\"Scaler saved.\")"
   ]
  },
  {
   "cell_type": "code",
   "execution_count": 22,
   "id": "d57b91c9",
   "metadata": {},
   "outputs": [
    {
     "name": "stdout",
     "output_type": "stream",
     "text": [
      "Preprocessed data saved.\n"
     ]
    }
   ],
   "source": [
    "X_train.to_csv(\"../data/X_train.csv\", index=False)\n",
    "X_test.to_csv(\"../data/X_test.csv\", index=False)\n",
    "y_train.to_csv(\"../data/y_train.csv\", index=False)\n",
    "y_test.to_csv(\"../data/y_test.csv\", index=False)\n",
    "print(\"Preprocessed data saved.\")"
   ]
  }
 ],
 "metadata": {
  "kernelspec": {
   "display_name": "Python 3",
   "language": "python",
   "name": "python3"
  },
  "language_info": {
   "codemirror_mode": {
    "name": "ipython",
    "version": 3
   },
   "file_extension": ".py",
   "mimetype": "text/x-python",
   "name": "python",
   "nbconvert_exporter": "python",
   "pygments_lexer": "ipython3",
   "version": "3.11.9"
  }
 },
 "nbformat": 4,
 "nbformat_minor": 5
}
